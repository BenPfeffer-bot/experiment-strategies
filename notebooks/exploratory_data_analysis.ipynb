{
 "cells": [
  {
   "cell_type": "code",
   "execution_count": 2,
   "metadata": {},
   "outputs": [],
   "source": [
    "import yfinance as yf\n",
    "import pandas as pd\n",
    "import numpy as np\n",
    "import matplotlib.pyplot as plt\n",
    "import seaborn as sns"
   ]
  },
  {
   "cell_type": "code",
   "execution_count": 5,
   "metadata": {},
   "outputs": [
    {
     "data": {
      "text/html": [
       "<div>\n",
       "<style scoped>\n",
       "    .dataframe tbody tr th:only-of-type {\n",
       "        vertical-align: middle;\n",
       "    }\n",
       "\n",
       "    .dataframe tbody tr th {\n",
       "        vertical-align: top;\n",
       "    }\n",
       "\n",
       "    .dataframe thead th {\n",
       "        text-align: right;\n",
       "    }\n",
       "</style>\n",
       "<table border=\"1\" class=\"dataframe\">\n",
       "  <thead>\n",
       "    <tr style=\"text-align: right;\">\n",
       "      <th></th>\n",
       "      <th>contractSymbol</th>\n",
       "      <th>lastTradeDate</th>\n",
       "      <th>strike</th>\n",
       "      <th>lastPrice</th>\n",
       "      <th>bid</th>\n",
       "      <th>ask</th>\n",
       "      <th>change</th>\n",
       "      <th>percentChange</th>\n",
       "      <th>volume</th>\n",
       "      <th>openInterest</th>\n",
       "      <th>impliedVolatility</th>\n",
       "      <th>inTheMoney</th>\n",
       "      <th>contractSize</th>\n",
       "      <th>currency</th>\n",
       "    </tr>\n",
       "  </thead>\n",
       "  <tbody>\n",
       "    <tr>\n",
       "      <th>0</th>\n",
       "      <td>MSFT250207C00250000</td>\n",
       "      <td>2025-01-31 15:27:25+00:00</td>\n",
       "      <td>250.0</td>\n",
       "      <td>169.04</td>\n",
       "      <td>166.65</td>\n",
       "      <td>168.25</td>\n",
       "      <td>0.0</td>\n",
       "      <td>0.0</td>\n",
       "      <td>3.0</td>\n",
       "      <td>3</td>\n",
       "      <td>2.617191</td>\n",
       "      <td>True</td>\n",
       "      <td>REGULAR</td>\n",
       "      <td>USD</td>\n",
       "    </tr>\n",
       "    <tr>\n",
       "      <th>1</th>\n",
       "      <td>MSFT250207C00280000</td>\n",
       "      <td>2025-01-31 15:21:01+00:00</td>\n",
       "      <td>280.0</td>\n",
       "      <td>139.92</td>\n",
       "      <td>136.65</td>\n",
       "      <td>138.20</td>\n",
       "      <td>0.0</td>\n",
       "      <td>0.0</td>\n",
       "      <td>1.0</td>\n",
       "      <td>6</td>\n",
       "      <td>2.000005</td>\n",
       "      <td>True</td>\n",
       "      <td>REGULAR</td>\n",
       "      <td>USD</td>\n",
       "    </tr>\n",
       "    <tr>\n",
       "      <th>2</th>\n",
       "      <td>MSFT250207C00310000</td>\n",
       "      <td>2025-01-15 20:43:38+00:00</td>\n",
       "      <td>310.0</td>\n",
       "      <td>118.45</td>\n",
       "      <td>106.75</td>\n",
       "      <td>108.30</td>\n",
       "      <td>0.0</td>\n",
       "      <td>0.0</td>\n",
       "      <td>2.0</td>\n",
       "      <td>2001</td>\n",
       "      <td>1.726564</td>\n",
       "      <td>True</td>\n",
       "      <td>REGULAR</td>\n",
       "      <td>USD</td>\n",
       "    </tr>\n",
       "    <tr>\n",
       "      <th>3</th>\n",
       "      <td>MSFT250207C00320000</td>\n",
       "      <td>2025-02-03 18:40:15+00:00</td>\n",
       "      <td>320.0</td>\n",
       "      <td>92.87</td>\n",
       "      <td>96.90</td>\n",
       "      <td>98.45</td>\n",
       "      <td>0.0</td>\n",
       "      <td>0.0</td>\n",
       "      <td>1.0</td>\n",
       "      <td>4</td>\n",
       "      <td>1.714845</td>\n",
       "      <td>True</td>\n",
       "      <td>REGULAR</td>\n",
       "      <td>USD</td>\n",
       "    </tr>\n",
       "    <tr>\n",
       "      <th>4</th>\n",
       "      <td>MSFT250207C00330000</td>\n",
       "      <td>2025-02-03 14:36:17+00:00</td>\n",
       "      <td>330.0</td>\n",
       "      <td>83.36</td>\n",
       "      <td>86.70</td>\n",
       "      <td>88.25</td>\n",
       "      <td>0.0</td>\n",
       "      <td>0.0</td>\n",
       "      <td>10.0</td>\n",
       "      <td>4</td>\n",
       "      <td>1.332035</td>\n",
       "      <td>True</td>\n",
       "      <td>REGULAR</td>\n",
       "      <td>USD</td>\n",
       "    </tr>\n",
       "    <tr>\n",
       "      <th>...</th>\n",
       "      <td>...</td>\n",
       "      <td>...</td>\n",
       "      <td>...</td>\n",
       "      <td>...</td>\n",
       "      <td>...</td>\n",
       "      <td>...</td>\n",
       "      <td>...</td>\n",
       "      <td>...</td>\n",
       "      <td>...</td>\n",
       "      <td>...</td>\n",
       "      <td>...</td>\n",
       "      <td>...</td>\n",
       "      <td>...</td>\n",
       "      <td>...</td>\n",
       "    </tr>\n",
       "    <tr>\n",
       "      <th>70</th>\n",
       "      <td>MSFT250207C00525000</td>\n",
       "      <td>2025-02-04 19:35:25+00:00</td>\n",
       "      <td>525.0</td>\n",
       "      <td>0.01</td>\n",
       "      <td>0.00</td>\n",
       "      <td>0.01</td>\n",
       "      <td>0.0</td>\n",
       "      <td>0.0</td>\n",
       "      <td>3.0</td>\n",
       "      <td>104</td>\n",
       "      <td>0.937501</td>\n",
       "      <td>False</td>\n",
       "      <td>REGULAR</td>\n",
       "      <td>USD</td>\n",
       "    </tr>\n",
       "    <tr>\n",
       "      <th>71</th>\n",
       "      <td>MSFT250207C00530000</td>\n",
       "      <td>2025-01-30 17:14:20+00:00</td>\n",
       "      <td>530.0</td>\n",
       "      <td>0.01</td>\n",
       "      <td>0.00</td>\n",
       "      <td>0.01</td>\n",
       "      <td>0.0</td>\n",
       "      <td>0.0</td>\n",
       "      <td>1.0</td>\n",
       "      <td>293</td>\n",
       "      <td>0.984375</td>\n",
       "      <td>False</td>\n",
       "      <td>REGULAR</td>\n",
       "      <td>USD</td>\n",
       "    </tr>\n",
       "    <tr>\n",
       "      <th>72</th>\n",
       "      <td>MSFT250207C00540000</td>\n",
       "      <td>2025-02-03 20:15:54+00:00</td>\n",
       "      <td>540.0</td>\n",
       "      <td>0.01</td>\n",
       "      <td>0.00</td>\n",
       "      <td>0.01</td>\n",
       "      <td>0.0</td>\n",
       "      <td>0.0</td>\n",
       "      <td>1.0</td>\n",
       "      <td>109</td>\n",
       "      <td>1.062505</td>\n",
       "      <td>False</td>\n",
       "      <td>REGULAR</td>\n",
       "      <td>USD</td>\n",
       "    </tr>\n",
       "    <tr>\n",
       "      <th>73</th>\n",
       "      <td>MSFT250207C00550000</td>\n",
       "      <td>2025-01-30 14:30:35+00:00</td>\n",
       "      <td>550.0</td>\n",
       "      <td>0.05</td>\n",
       "      <td>0.00</td>\n",
       "      <td>0.01</td>\n",
       "      <td>0.0</td>\n",
       "      <td>0.0</td>\n",
       "      <td>4.0</td>\n",
       "      <td>68</td>\n",
       "      <td>1.125004</td>\n",
       "      <td>False</td>\n",
       "      <td>REGULAR</td>\n",
       "      <td>USD</td>\n",
       "    </tr>\n",
       "    <tr>\n",
       "      <th>74</th>\n",
       "      <td>MSFT250207C00560000</td>\n",
       "      <td>2025-01-30 14:30:06+00:00</td>\n",
       "      <td>560.0</td>\n",
       "      <td>0.03</td>\n",
       "      <td>0.00</td>\n",
       "      <td>0.01</td>\n",
       "      <td>0.0</td>\n",
       "      <td>0.0</td>\n",
       "      <td>1.0</td>\n",
       "      <td>216</td>\n",
       "      <td>1.187504</td>\n",
       "      <td>False</td>\n",
       "      <td>REGULAR</td>\n",
       "      <td>USD</td>\n",
       "    </tr>\n",
       "  </tbody>\n",
       "</table>\n",
       "<p>75 rows × 14 columns</p>\n",
       "</div>"
      ],
      "text/plain": [
       "         contractSymbol             lastTradeDate  strike  lastPrice     bid  \\\n",
       "0   MSFT250207C00250000 2025-01-31 15:27:25+00:00   250.0     169.04  166.65   \n",
       "1   MSFT250207C00280000 2025-01-31 15:21:01+00:00   280.0     139.92  136.65   \n",
       "2   MSFT250207C00310000 2025-01-15 20:43:38+00:00   310.0     118.45  106.75   \n",
       "3   MSFT250207C00320000 2025-02-03 18:40:15+00:00   320.0      92.87   96.90   \n",
       "4   MSFT250207C00330000 2025-02-03 14:36:17+00:00   330.0      83.36   86.70   \n",
       "..                  ...                       ...     ...        ...     ...   \n",
       "70  MSFT250207C00525000 2025-02-04 19:35:25+00:00   525.0       0.01    0.00   \n",
       "71  MSFT250207C00530000 2025-01-30 17:14:20+00:00   530.0       0.01    0.00   \n",
       "72  MSFT250207C00540000 2025-02-03 20:15:54+00:00   540.0       0.01    0.00   \n",
       "73  MSFT250207C00550000 2025-01-30 14:30:35+00:00   550.0       0.05    0.00   \n",
       "74  MSFT250207C00560000 2025-01-30 14:30:06+00:00   560.0       0.03    0.00   \n",
       "\n",
       "       ask  change  percentChange  volume  openInterest  impliedVolatility  \\\n",
       "0   168.25     0.0            0.0     3.0             3           2.617191   \n",
       "1   138.20     0.0            0.0     1.0             6           2.000005   \n",
       "2   108.30     0.0            0.0     2.0          2001           1.726564   \n",
       "3    98.45     0.0            0.0     1.0             4           1.714845   \n",
       "4    88.25     0.0            0.0    10.0             4           1.332035   \n",
       "..     ...     ...            ...     ...           ...                ...   \n",
       "70    0.01     0.0            0.0     3.0           104           0.937501   \n",
       "71    0.01     0.0            0.0     1.0           293           0.984375   \n",
       "72    0.01     0.0            0.0     1.0           109           1.062505   \n",
       "73    0.01     0.0            0.0     4.0            68           1.125004   \n",
       "74    0.01     0.0            0.0     1.0           216           1.187504   \n",
       "\n",
       "    inTheMoney contractSize currency  \n",
       "0         True      REGULAR      USD  \n",
       "1         True      REGULAR      USD  \n",
       "2         True      REGULAR      USD  \n",
       "3         True      REGULAR      USD  \n",
       "4         True      REGULAR      USD  \n",
       "..         ...          ...      ...  \n",
       "70       False      REGULAR      USD  \n",
       "71       False      REGULAR      USD  \n",
       "72       False      REGULAR      USD  \n",
       "73       False      REGULAR      USD  \n",
       "74       False      REGULAR      USD  \n",
       "\n",
       "[75 rows x 14 columns]"
      ]
     },
     "execution_count": 5,
     "metadata": {},
     "output_type": "execute_result"
    }
   ],
   "source": [
    "dat = yf.Ticker(\"MSFT\")\n",
    "dat.info\n",
    "dat.calendar\n",
    "dat.analyst_price_targets\n",
    "dat.quarterly_income_stmt\n",
    "dat.history(period='1mo')\n",
    "dat.option_chain(dat.options[0]).calls"
   ]
  },
  {
   "cell_type": "code",
   "execution_count": 9,
   "metadata": {},
   "outputs": [
    {
     "name": "stderr",
     "output_type": "stream",
     "text": [
      "[*********************100%***********************]  3 of 3 completed\n"
     ]
    },
    {
     "data": {
      "text/html": [
       "<div>\n",
       "<style scoped>\n",
       "    .dataframe tbody tr th:only-of-type {\n",
       "        vertical-align: middle;\n",
       "    }\n",
       "\n",
       "    .dataframe tbody tr th {\n",
       "        vertical-align: top;\n",
       "    }\n",
       "\n",
       "    .dataframe thead tr th {\n",
       "        text-align: left;\n",
       "    }\n",
       "\n",
       "    .dataframe thead tr:last-of-type th {\n",
       "        text-align: right;\n",
       "    }\n",
       "</style>\n",
       "<table border=\"1\" class=\"dataframe\">\n",
       "  <thead>\n",
       "    <tr>\n",
       "      <th>Price</th>\n",
       "      <th colspan=\"3\" halign=\"left\">Close</th>\n",
       "      <th colspan=\"3\" halign=\"left\">High</th>\n",
       "      <th colspan=\"3\" halign=\"left\">Low</th>\n",
       "      <th colspan=\"3\" halign=\"left\">Open</th>\n",
       "      <th colspan=\"3\" halign=\"left\">Volume</th>\n",
       "    </tr>\n",
       "    <tr>\n",
       "      <th>Ticker</th>\n",
       "      <th>AAPL</th>\n",
       "      <th>GOOG</th>\n",
       "      <th>MSFT</th>\n",
       "      <th>AAPL</th>\n",
       "      <th>GOOG</th>\n",
       "      <th>MSFT</th>\n",
       "      <th>AAPL</th>\n",
       "      <th>GOOG</th>\n",
       "      <th>MSFT</th>\n",
       "      <th>AAPL</th>\n",
       "      <th>GOOG</th>\n",
       "      <th>MSFT</th>\n",
       "      <th>AAPL</th>\n",
       "      <th>GOOG</th>\n",
       "      <th>MSFT</th>\n",
       "    </tr>\n",
       "    <tr>\n",
       "      <th>Datetime</th>\n",
       "      <th></th>\n",
       "      <th></th>\n",
       "      <th></th>\n",
       "      <th></th>\n",
       "      <th></th>\n",
       "      <th></th>\n",
       "      <th></th>\n",
       "      <th></th>\n",
       "      <th></th>\n",
       "      <th></th>\n",
       "      <th></th>\n",
       "      <th></th>\n",
       "      <th></th>\n",
       "      <th></th>\n",
       "      <th></th>\n",
       "    </tr>\n",
       "  </thead>\n",
       "  <tbody>\n",
       "    <tr>\n",
       "      <th>2025-01-07 19:30:00+00:00</th>\n",
       "      <td>242.009995</td>\n",
       "      <td>196.279999</td>\n",
       "      <td>422.090088</td>\n",
       "      <td>242.490005</td>\n",
       "      <td>197.706802</td>\n",
       "      <td>424.589905</td>\n",
       "      <td>241.750000</td>\n",
       "      <td>196.029999</td>\n",
       "      <td>421.950012</td>\n",
       "      <td>242.449997</td>\n",
       "      <td>197.690002</td>\n",
       "      <td>424.459991</td>\n",
       "      <td>0</td>\n",
       "      <td>0</td>\n",
       "      <td>0</td>\n",
       "    </tr>\n",
       "    <tr>\n",
       "      <th>2025-01-07 20:30:00+00:00</th>\n",
       "      <td>242.190002</td>\n",
       "      <td>196.750000</td>\n",
       "      <td>422.489990</td>\n",
       "      <td>242.404999</td>\n",
       "      <td>197.020004</td>\n",
       "      <td>422.869995</td>\n",
       "      <td>241.539001</td>\n",
       "      <td>195.940002</td>\n",
       "      <td>420.799988</td>\n",
       "      <td>242.020004</td>\n",
       "      <td>196.300003</td>\n",
       "      <td>422.119995</td>\n",
       "      <td>4772501</td>\n",
       "      <td>1521468</td>\n",
       "      <td>1580930</td>\n",
       "    </tr>\n",
       "    <tr>\n",
       "      <th>2025-01-08 14:30:00+00:00</th>\n",
       "      <td>242.409897</td>\n",
       "      <td>195.970001</td>\n",
       "      <td>425.910004</td>\n",
       "      <td>242.865494</td>\n",
       "      <td>197.639999</td>\n",
       "      <td>426.970001</td>\n",
       "      <td>240.050003</td>\n",
       "      <td>193.750000</td>\n",
       "      <td>422.790009</td>\n",
       "      <td>241.970001</td>\n",
       "      <td>193.945007</td>\n",
       "      <td>423.880005</td>\n",
       "      <td>7170550</td>\n",
       "      <td>3562766</td>\n",
       "      <td>3080187</td>\n",
       "    </tr>\n",
       "    <tr>\n",
       "      <th>2025-01-08 15:30:00+00:00</th>\n",
       "      <td>242.710007</td>\n",
       "      <td>195.940002</td>\n",
       "      <td>424.739990</td>\n",
       "      <td>243.712296</td>\n",
       "      <td>196.729904</td>\n",
       "      <td>426.500000</td>\n",
       "      <td>242.085007</td>\n",
       "      <td>195.039993</td>\n",
       "      <td>424.339996</td>\n",
       "      <td>242.389999</td>\n",
       "      <td>195.929993</td>\n",
       "      <td>425.839996</td>\n",
       "      <td>4154228</td>\n",
       "      <td>1360746</td>\n",
       "      <td>1140983</td>\n",
       "    </tr>\n",
       "    <tr>\n",
       "      <th>2025-01-08 16:30:00+00:00</th>\n",
       "      <td>241.369995</td>\n",
       "      <td>195.682693</td>\n",
       "      <td>421.799988</td>\n",
       "      <td>243.580002</td>\n",
       "      <td>196.899994</td>\n",
       "      <td>425.809998</td>\n",
       "      <td>241.240005</td>\n",
       "      <td>195.570007</td>\n",
       "      <td>421.559998</td>\n",
       "      <td>242.726105</td>\n",
       "      <td>195.929993</td>\n",
       "      <td>424.769989</td>\n",
       "      <td>3009958</td>\n",
       "      <td>1499175</td>\n",
       "      <td>1055071</td>\n",
       "    </tr>\n",
       "    <tr>\n",
       "      <th>...</th>\n",
       "      <td>...</td>\n",
       "      <td>...</td>\n",
       "      <td>...</td>\n",
       "      <td>...</td>\n",
       "      <td>...</td>\n",
       "      <td>...</td>\n",
       "      <td>...</td>\n",
       "      <td>...</td>\n",
       "      <td>...</td>\n",
       "      <td>...</td>\n",
       "      <td>...</td>\n",
       "      <td>...</td>\n",
       "      <td>...</td>\n",
       "      <td>...</td>\n",
       "      <td>...</td>\n",
       "    </tr>\n",
       "    <tr>\n",
       "      <th>2025-02-07 15:30:00+00:00</th>\n",
       "      <td>229.054993</td>\n",
       "      <td>187.316193</td>\n",
       "      <td>411.339996</td>\n",
       "      <td>231.268005</td>\n",
       "      <td>188.679993</td>\n",
       "      <td>413.670013</td>\n",
       "      <td>228.899994</td>\n",
       "      <td>186.889999</td>\n",
       "      <td>410.655914</td>\n",
       "      <td>230.339996</td>\n",
       "      <td>188.119995</td>\n",
       "      <td>412.600006</td>\n",
       "      <td>5664232</td>\n",
       "      <td>4244230</td>\n",
       "      <td>2646284</td>\n",
       "    </tr>\n",
       "    <tr>\n",
       "      <th>2025-02-07 16:30:00+00:00</th>\n",
       "      <td>228.400604</td>\n",
       "      <td>185.445007</td>\n",
       "      <td>410.180115</td>\n",
       "      <td>229.419998</td>\n",
       "      <td>187.490005</td>\n",
       "      <td>411.660004</td>\n",
       "      <td>228.195007</td>\n",
       "      <td>185.110001</td>\n",
       "      <td>409.559998</td>\n",
       "      <td>229.085007</td>\n",
       "      <td>187.347504</td>\n",
       "      <td>411.359985</td>\n",
       "      <td>3763438</td>\n",
       "      <td>3875821</td>\n",
       "      <td>2450726</td>\n",
       "    </tr>\n",
       "    <tr>\n",
       "      <th>2025-02-07 17:30:00+00:00</th>\n",
       "      <td>229.298904</td>\n",
       "      <td>187.828506</td>\n",
       "      <td>410.709991</td>\n",
       "      <td>229.440002</td>\n",
       "      <td>187.839996</td>\n",
       "      <td>411.339996</td>\n",
       "      <td>228.363297</td>\n",
       "      <td>185.220001</td>\n",
       "      <td>410.179993</td>\n",
       "      <td>228.389999</td>\n",
       "      <td>185.440002</td>\n",
       "      <td>410.179993</td>\n",
       "      <td>3721234</td>\n",
       "      <td>2476479</td>\n",
       "      <td>1559172</td>\n",
       "    </tr>\n",
       "    <tr>\n",
       "      <th>2025-02-07 18:30:00+00:00</th>\n",
       "      <td>227.880005</td>\n",
       "      <td>187.369995</td>\n",
       "      <td>408.285004</td>\n",
       "      <td>229.500000</td>\n",
       "      <td>188.179993</td>\n",
       "      <td>411.141998</td>\n",
       "      <td>227.830002</td>\n",
       "      <td>186.869995</td>\n",
       "      <td>408.279999</td>\n",
       "      <td>229.289993</td>\n",
       "      <td>187.809998</td>\n",
       "      <td>410.694397</td>\n",
       "      <td>2602577</td>\n",
       "      <td>2290224</td>\n",
       "      <td>1982868</td>\n",
       "    </tr>\n",
       "    <tr>\n",
       "      <th>2025-02-07 19:30:00+00:00</th>\n",
       "      <td>228.380005</td>\n",
       "      <td>187.490005</td>\n",
       "      <td>408.850006</td>\n",
       "      <td>228.580002</td>\n",
       "      <td>187.789993</td>\n",
       "      <td>409.159912</td>\n",
       "      <td>227.789993</td>\n",
       "      <td>187.240005</td>\n",
       "      <td>408.100006</td>\n",
       "      <td>227.889999</td>\n",
       "      <td>187.369995</td>\n",
       "      <td>408.269989</td>\n",
       "      <td>1852677</td>\n",
       "      <td>1420296</td>\n",
       "      <td>1224787</td>\n",
       "    </tr>\n",
       "  </tbody>\n",
       "</table>\n",
       "<p>148 rows × 15 columns</p>\n",
       "</div>"
      ],
      "text/plain": [
       "Price                           Close                                High  \\\n",
       "Ticker                           AAPL        GOOG        MSFT        AAPL   \n",
       "Datetime                                                                    \n",
       "2025-01-07 19:30:00+00:00  242.009995  196.279999  422.090088  242.490005   \n",
       "2025-01-07 20:30:00+00:00  242.190002  196.750000  422.489990  242.404999   \n",
       "2025-01-08 14:30:00+00:00  242.409897  195.970001  425.910004  242.865494   \n",
       "2025-01-08 15:30:00+00:00  242.710007  195.940002  424.739990  243.712296   \n",
       "2025-01-08 16:30:00+00:00  241.369995  195.682693  421.799988  243.580002   \n",
       "...                               ...         ...         ...         ...   \n",
       "2025-02-07 15:30:00+00:00  229.054993  187.316193  411.339996  231.268005   \n",
       "2025-02-07 16:30:00+00:00  228.400604  185.445007  410.180115  229.419998   \n",
       "2025-02-07 17:30:00+00:00  229.298904  187.828506  410.709991  229.440002   \n",
       "2025-02-07 18:30:00+00:00  227.880005  187.369995  408.285004  229.500000   \n",
       "2025-02-07 19:30:00+00:00  228.380005  187.490005  408.850006  228.580002   \n",
       "\n",
       "Price                                                     Low              \\\n",
       "Ticker                           GOOG        MSFT        AAPL        GOOG   \n",
       "Datetime                                                                    \n",
       "2025-01-07 19:30:00+00:00  197.706802  424.589905  241.750000  196.029999   \n",
       "2025-01-07 20:30:00+00:00  197.020004  422.869995  241.539001  195.940002   \n",
       "2025-01-08 14:30:00+00:00  197.639999  426.970001  240.050003  193.750000   \n",
       "2025-01-08 15:30:00+00:00  196.729904  426.500000  242.085007  195.039993   \n",
       "2025-01-08 16:30:00+00:00  196.899994  425.809998  241.240005  195.570007   \n",
       "...                               ...         ...         ...         ...   \n",
       "2025-02-07 15:30:00+00:00  188.679993  413.670013  228.899994  186.889999   \n",
       "2025-02-07 16:30:00+00:00  187.490005  411.660004  228.195007  185.110001   \n",
       "2025-02-07 17:30:00+00:00  187.839996  411.339996  228.363297  185.220001   \n",
       "2025-02-07 18:30:00+00:00  188.179993  411.141998  227.830002  186.869995   \n",
       "2025-02-07 19:30:00+00:00  187.789993  409.159912  227.789993  187.240005   \n",
       "\n",
       "Price                                        Open                          \\\n",
       "Ticker                           MSFT        AAPL        GOOG        MSFT   \n",
       "Datetime                                                                    \n",
       "2025-01-07 19:30:00+00:00  421.950012  242.449997  197.690002  424.459991   \n",
       "2025-01-07 20:30:00+00:00  420.799988  242.020004  196.300003  422.119995   \n",
       "2025-01-08 14:30:00+00:00  422.790009  241.970001  193.945007  423.880005   \n",
       "2025-01-08 15:30:00+00:00  424.339996  242.389999  195.929993  425.839996   \n",
       "2025-01-08 16:30:00+00:00  421.559998  242.726105  195.929993  424.769989   \n",
       "...                               ...         ...         ...         ...   \n",
       "2025-02-07 15:30:00+00:00  410.655914  230.339996  188.119995  412.600006   \n",
       "2025-02-07 16:30:00+00:00  409.559998  229.085007  187.347504  411.359985   \n",
       "2025-02-07 17:30:00+00:00  410.179993  228.389999  185.440002  410.179993   \n",
       "2025-02-07 18:30:00+00:00  408.279999  229.289993  187.809998  410.694397   \n",
       "2025-02-07 19:30:00+00:00  408.100006  227.889999  187.369995  408.269989   \n",
       "\n",
       "Price                       Volume                    \n",
       "Ticker                        AAPL     GOOG     MSFT  \n",
       "Datetime                                              \n",
       "2025-01-07 19:30:00+00:00        0        0        0  \n",
       "2025-01-07 20:30:00+00:00  4772501  1521468  1580930  \n",
       "2025-01-08 14:30:00+00:00  7170550  3562766  3080187  \n",
       "2025-01-08 15:30:00+00:00  4154228  1360746  1140983  \n",
       "2025-01-08 16:30:00+00:00  3009958  1499175  1055071  \n",
       "...                            ...      ...      ...  \n",
       "2025-02-07 15:30:00+00:00  5664232  4244230  2646284  \n",
       "2025-02-07 16:30:00+00:00  3763438  3875821  2450726  \n",
       "2025-02-07 17:30:00+00:00  3721234  2476479  1559172  \n",
       "2025-02-07 18:30:00+00:00  2602577  2290224  1982868  \n",
       "2025-02-07 19:30:00+00:00  1852677  1420296  1224787  \n",
       "\n",
       "[148 rows x 15 columns]"
      ]
     },
     "execution_count": 9,
     "metadata": {},
     "output_type": "execute_result"
    }
   ],
   "source": [
    "tickers = yf.Tickers('MSFT AAPL GOOG')\n",
    "tickers.tickers['MSFT'].info\n",
    "yf.download(['MSFT', 'AAPL', 'GOOG'], period='1mo', interval='1h')"
   ]
  },
  {
   "cell_type": "code",
   "execution_count": 12,
   "metadata": {},
   "outputs": [
    {
     "name": "stderr",
     "output_type": "stream",
     "text": [
      "[*********************100%***********************]  1 of 1 completed\n",
      "/var/folders/8p/tyj3gj5j7f54558fzrt60f700000gn/T/ipykernel_41204/1224478227.py:37: FutureWarning: DataFrame.fillna with 'method' is deprecated and will raise in a future version. Use obj.ffill() or obj.bfill() instead.\n",
      "  data = data.fillna(method=\"ffill\").fillna(method=\"bfill\")\n"
     ]
    },
    {
     "name": "stdout",
     "output_type": "stream",
     "text": [
      "Successfully saved RMS.PA hourly data to /Users/benpfeffer/Desktop/CODE/experiment-strategies/db/cache/market_data/raw/RMS.PA_hourly_data.csv\n"
     ]
    },
    {
     "name": "stderr",
     "output_type": "stream",
     "text": [
      "[*********************100%***********************]  1 of 1 completed\n",
      "/var/folders/8p/tyj3gj5j7f54558fzrt60f700000gn/T/ipykernel_41204/1224478227.py:37: FutureWarning: DataFrame.fillna with 'method' is deprecated and will raise in a future version. Use obj.ffill() or obj.bfill() instead.\n",
      "  data = data.fillna(method=\"ffill\").fillna(method=\"bfill\")\n"
     ]
    },
    {
     "name": "stdout",
     "output_type": "stream",
     "text": [
      "Successfully saved VOW3.DE hourly data to /Users/benpfeffer/Desktop/CODE/experiment-strategies/db/cache/market_data/raw/VOW3.DE_hourly_data.csv\n"
     ]
    },
    {
     "name": "stderr",
     "output_type": "stream",
     "text": [
      "[*********************100%***********************]  1 of 1 completed\n",
      "/var/folders/8p/tyj3gj5j7f54558fzrt60f700000gn/T/ipykernel_41204/1224478227.py:37: FutureWarning: DataFrame.fillna with 'method' is deprecated and will raise in a future version. Use obj.ffill() or obj.bfill() instead.\n",
      "  data = data.fillna(method=\"ffill\").fillna(method=\"bfill\")\n"
     ]
    },
    {
     "name": "stdout",
     "output_type": "stream",
     "text": [
      "Successfully saved ASML.AS hourly data to /Users/benpfeffer/Desktop/CODE/experiment-strategies/db/cache/market_data/raw/ASML.AS_hourly_data.csv\n"
     ]
    },
    {
     "name": "stderr",
     "output_type": "stream",
     "text": [
      "[*********************100%***********************]  1 of 1 completed\n",
      "/var/folders/8p/tyj3gj5j7f54558fzrt60f700000gn/T/ipykernel_41204/1224478227.py:37: FutureWarning: DataFrame.fillna with 'method' is deprecated and will raise in a future version. Use obj.ffill() or obj.bfill() instead.\n",
      "  data = data.fillna(method=\"ffill\").fillna(method=\"bfill\")\n"
     ]
    },
    {
     "name": "stdout",
     "output_type": "stream",
     "text": [
      "Successfully saved SAN.MC hourly data to /Users/benpfeffer/Desktop/CODE/experiment-strategies/db/cache/market_data/raw/SAN.MC_hourly_data.csv\n"
     ]
    },
    {
     "name": "stderr",
     "output_type": "stream",
     "text": [
      "[*********************100%***********************]  1 of 1 completed\n",
      "/var/folders/8p/tyj3gj5j7f54558fzrt60f700000gn/T/ipykernel_41204/1224478227.py:37: FutureWarning: DataFrame.fillna with 'method' is deprecated and will raise in a future version. Use obj.ffill() or obj.bfill() instead.\n",
      "  data = data.fillna(method=\"ffill\").fillna(method=\"bfill\")\n"
     ]
    },
    {
     "name": "stdout",
     "output_type": "stream",
     "text": [
      "Successfully saved BNP.PA hourly data to /Users/benpfeffer/Desktop/CODE/experiment-strategies/db/cache/market_data/raw/BNP.PA_hourly_data.csv\n"
     ]
    },
    {
     "name": "stderr",
     "output_type": "stream",
     "text": [
      "[*********************100%***********************]  1 of 1 completed\n",
      "/var/folders/8p/tyj3gj5j7f54558fzrt60f700000gn/T/ipykernel_41204/1224478227.py:37: FutureWarning: DataFrame.fillna with 'method' is deprecated and will raise in a future version. Use obj.ffill() or obj.bfill() instead.\n",
      "  data = data.fillna(method=\"ffill\").fillna(method=\"bfill\")\n"
     ]
    },
    {
     "name": "stdout",
     "output_type": "stream",
     "text": [
      "Successfully saved ITX.MC hourly data to /Users/benpfeffer/Desktop/CODE/experiment-strategies/db/cache/market_data/raw/ITX.MC_hourly_data.csv\n"
     ]
    },
    {
     "name": "stderr",
     "output_type": "stream",
     "text": [
      "[*********************100%***********************]  1 of 1 completed\n",
      "/var/folders/8p/tyj3gj5j7f54558fzrt60f700000gn/T/ipykernel_41204/1224478227.py:37: FutureWarning: DataFrame.fillna with 'method' is deprecated and will raise in a future version. Use obj.ffill() or obj.bfill() instead.\n",
      "  data = data.fillna(method=\"ffill\").fillna(method=\"bfill\")\n"
     ]
    },
    {
     "name": "stdout",
     "output_type": "stream",
     "text": [
      "Successfully saved MC.PA hourly data to /Users/benpfeffer/Desktop/CODE/experiment-strategies/db/cache/market_data/raw/MC.PA_hourly_data.csv\n"
     ]
    },
    {
     "name": "stderr",
     "output_type": "stream",
     "text": [
      "[*********************100%***********************]  1 of 1 completed\n",
      "/var/folders/8p/tyj3gj5j7f54558fzrt60f700000gn/T/ipykernel_41204/1224478227.py:37: FutureWarning: DataFrame.fillna with 'method' is deprecated and will raise in a future version. Use obj.ffill() or obj.bfill() instead.\n",
      "  data = data.fillna(method=\"ffill\").fillna(method=\"bfill\")\n"
     ]
    },
    {
     "name": "stdout",
     "output_type": "stream",
     "text": [
      "Successfully saved RACE.MI hourly data to /Users/benpfeffer/Desktop/CODE/experiment-strategies/db/cache/market_data/raw/RACE.MI_hourly_data.csv\n"
     ]
    },
    {
     "name": "stderr",
     "output_type": "stream",
     "text": [
      "[*********************100%***********************]  1 of 1 completed\n",
      "/var/folders/8p/tyj3gj5j7f54558fzrt60f700000gn/T/ipykernel_41204/1224478227.py:37: FutureWarning: DataFrame.fillna with 'method' is deprecated and will raise in a future version. Use obj.ffill() or obj.bfill() instead.\n",
      "  data = data.fillna(method=\"ffill\").fillna(method=\"bfill\")\n"
     ]
    },
    {
     "name": "stdout",
     "output_type": "stream",
     "text": [
      "Successfully saved ENI.MI hourly data to /Users/benpfeffer/Desktop/CODE/experiment-strategies/db/cache/market_data/raw/ENI.MI_hourly_data.csv\n"
     ]
    },
    {
     "name": "stderr",
     "output_type": "stream",
     "text": [
      "[*********************100%***********************]  1 of 1 completed\n",
      "/var/folders/8p/tyj3gj5j7f54558fzrt60f700000gn/T/ipykernel_41204/1224478227.py:37: FutureWarning: DataFrame.fillna with 'method' is deprecated and will raise in a future version. Use obj.ffill() or obj.bfill() instead.\n",
      "  data = data.fillna(method=\"ffill\").fillna(method=\"bfill\")\n"
     ]
    },
    {
     "name": "stdout",
     "output_type": "stream",
     "text": [
      "Successfully saved MUV2.DE hourly data to /Users/benpfeffer/Desktop/CODE/experiment-strategies/db/cache/market_data/raw/MUV2.DE_hourly_data.csv\n"
     ]
    },
    {
     "name": "stderr",
     "output_type": "stream",
     "text": [
      "[*********************100%***********************]  1 of 1 completed\n",
      "/var/folders/8p/tyj3gj5j7f54558fzrt60f700000gn/T/ipykernel_41204/1224478227.py:37: FutureWarning: DataFrame.fillna with 'method' is deprecated and will raise in a future version. Use obj.ffill() or obj.bfill() instead.\n",
      "  data = data.fillna(method=\"ffill\").fillna(method=\"bfill\")\n"
     ]
    },
    {
     "name": "stdout",
     "output_type": "stream",
     "text": [
      "Successfully saved ENEL.MI hourly data to /Users/benpfeffer/Desktop/CODE/experiment-strategies/db/cache/market_data/raw/ENEL.MI_hourly_data.csv\n"
     ]
    },
    {
     "name": "stderr",
     "output_type": "stream",
     "text": [
      "[*********************100%***********************]  1 of 1 completed\n",
      "/var/folders/8p/tyj3gj5j7f54558fzrt60f700000gn/T/ipykernel_41204/1224478227.py:37: FutureWarning: DataFrame.fillna with 'method' is deprecated and will raise in a future version. Use obj.ffill() or obj.bfill() instead.\n",
      "  data = data.fillna(method=\"ffill\").fillna(method=\"bfill\")\n"
     ]
    },
    {
     "name": "stdout",
     "output_type": "stream",
     "text": [
      "Successfully saved BAS.DE hourly data to /Users/benpfeffer/Desktop/CODE/experiment-strategies/db/cache/market_data/raw/BAS.DE_hourly_data.csv\n"
     ]
    },
    {
     "name": "stderr",
     "output_type": "stream",
     "text": [
      "[*********************100%***********************]  1 of 1 completed\n",
      "/var/folders/8p/tyj3gj5j7f54558fzrt60f700000gn/T/ipykernel_41204/1224478227.py:37: FutureWarning: DataFrame.fillna with 'method' is deprecated and will raise in a future version. Use obj.ffill() or obj.bfill() instead.\n",
      "  data = data.fillna(method=\"ffill\").fillna(method=\"bfill\")\n"
     ]
    },
    {
     "name": "stdout",
     "output_type": "stream",
     "text": [
      "Successfully saved DG.PA hourly data to /Users/benpfeffer/Desktop/CODE/experiment-strategies/db/cache/market_data/raw/DG.PA_hourly_data.csv\n"
     ]
    },
    {
     "name": "stderr",
     "output_type": "stream",
     "text": [
      "[*********************100%***********************]  1 of 1 completed\n",
      "/var/folders/8p/tyj3gj5j7f54558fzrt60f700000gn/T/ipykernel_41204/1224478227.py:37: FutureWarning: DataFrame.fillna with 'method' is deprecated and will raise in a future version. Use obj.ffill() or obj.bfill() instead.\n",
      "  data = data.fillna(method=\"ffill\").fillna(method=\"bfill\")\n"
     ]
    },
    {
     "name": "stdout",
     "output_type": "stream",
     "text": [
      "Successfully saved SU.PA hourly data to /Users/benpfeffer/Desktop/CODE/experiment-strategies/db/cache/market_data/raw/SU.PA_hourly_data.csv\n"
     ]
    },
    {
     "name": "stderr",
     "output_type": "stream",
     "text": [
      "[*********************100%***********************]  1 of 1 completed\n",
      "/var/folders/8p/tyj3gj5j7f54558fzrt60f700000gn/T/ipykernel_41204/1224478227.py:37: FutureWarning: DataFrame.fillna with 'method' is deprecated and will raise in a future version. Use obj.ffill() or obj.bfill() instead.\n",
      "  data = data.fillna(method=\"ffill\").fillna(method=\"bfill\")\n"
     ]
    },
    {
     "name": "stdout",
     "output_type": "stream",
     "text": [
      "Successfully saved BMW.DE hourly data to /Users/benpfeffer/Desktop/CODE/experiment-strategies/db/cache/market_data/raw/BMW.DE_hourly_data.csv\n"
     ]
    },
    {
     "name": "stderr",
     "output_type": "stream",
     "text": [
      "[*********************100%***********************]  1 of 1 completed\n",
      "/var/folders/8p/tyj3gj5j7f54558fzrt60f700000gn/T/ipykernel_41204/1224478227.py:37: FutureWarning: DataFrame.fillna with 'method' is deprecated and will raise in a future version. Use obj.ffill() or obj.bfill() instead.\n",
      "  data = data.fillna(method=\"ffill\").fillna(method=\"bfill\")\n"
     ]
    },
    {
     "name": "stdout",
     "output_type": "stream",
     "text": [
      "Successfully saved NOKIA.HE hourly data to /Users/benpfeffer/Desktop/CODE/experiment-strategies/db/cache/market_data/raw/NOKIA.HE_hourly_data.csv\n"
     ]
    },
    {
     "name": "stderr",
     "output_type": "stream",
     "text": [
      "[*********************100%***********************]  1 of 1 completed\n",
      "/var/folders/8p/tyj3gj5j7f54558fzrt60f700000gn/T/ipykernel_41204/1224478227.py:37: FutureWarning: DataFrame.fillna with 'method' is deprecated and will raise in a future version. Use obj.ffill() or obj.bfill() instead.\n",
      "  data = data.fillna(method=\"ffill\").fillna(method=\"bfill\")\n"
     ]
    },
    {
     "name": "stdout",
     "output_type": "stream",
     "text": [
      "Successfully saved BBVA.MC hourly data to /Users/benpfeffer/Desktop/CODE/experiment-strategies/db/cache/market_data/raw/BBVA.MC_hourly_data.csv\n"
     ]
    },
    {
     "name": "stderr",
     "output_type": "stream",
     "text": [
      "[*********************100%***********************]  1 of 1 completed\n",
      "/var/folders/8p/tyj3gj5j7f54558fzrt60f700000gn/T/ipykernel_41204/1224478227.py:37: FutureWarning: DataFrame.fillna with 'method' is deprecated and will raise in a future version. Use obj.ffill() or obj.bfill() instead.\n",
      "  data = data.fillna(method=\"ffill\").fillna(method=\"bfill\")\n"
     ]
    },
    {
     "name": "stdout",
     "output_type": "stream",
     "text": [
      "Successfully saved AI.PA hourly data to /Users/benpfeffer/Desktop/CODE/experiment-strategies/db/cache/market_data/raw/AI.PA_hourly_data.csv\n"
     ]
    },
    {
     "name": "stderr",
     "output_type": "stream",
     "text": [
      "[*********************100%***********************]  1 of 1 completed\n",
      "/var/folders/8p/tyj3gj5j7f54558fzrt60f700000gn/T/ipykernel_41204/1224478227.py:37: FutureWarning: DataFrame.fillna with 'method' is deprecated and will raise in a future version. Use obj.ffill() or obj.bfill() instead.\n",
      "  data = data.fillna(method=\"ffill\").fillna(method=\"bfill\")\n"
     ]
    },
    {
     "name": "stdout",
     "output_type": "stream",
     "text": [
      "Successfully saved SGO.PA hourly data to /Users/benpfeffer/Desktop/CODE/experiment-strategies/db/cache/market_data/raw/SGO.PA_hourly_data.csv\n"
     ]
    },
    {
     "name": "stderr",
     "output_type": "stream",
     "text": [
      "[*********************100%***********************]  1 of 1 completed\n",
      "/var/folders/8p/tyj3gj5j7f54558fzrt60f700000gn/T/ipykernel_41204/1224478227.py:37: FutureWarning: DataFrame.fillna with 'method' is deprecated and will raise in a future version. Use obj.ffill() or obj.bfill() instead.\n",
      "  data = data.fillna(method=\"ffill\").fillna(method=\"bfill\")\n"
     ]
    },
    {
     "name": "stdout",
     "output_type": "stream",
     "text": [
      "Successfully saved ADS.DE hourly data to /Users/benpfeffer/Desktop/CODE/experiment-strategies/db/cache/market_data/raw/ADS.DE_hourly_data.csv\n"
     ]
    },
    {
     "name": "stderr",
     "output_type": "stream",
     "text": [
      "[*********************100%***********************]  1 of 1 completed\n",
      "/var/folders/8p/tyj3gj5j7f54558fzrt60f700000gn/T/ipykernel_41204/1224478227.py:37: FutureWarning: DataFrame.fillna with 'method' is deprecated and will raise in a future version. Use obj.ffill() or obj.bfill() instead.\n",
      "  data = data.fillna(method=\"ffill\").fillna(method=\"bfill\")\n",
      "[*********************100%***********************]  1 of 1 completed"
     ]
    },
    {
     "name": "stdout",
     "output_type": "stream",
     "text": [
      "Successfully saved BAYN.DE hourly data to /Users/benpfeffer/Desktop/CODE/experiment-strategies/db/cache/market_data/raw/BAYN.DE_hourly_data.csv\n"
     ]
    },
    {
     "name": "stderr",
     "output_type": "stream",
     "text": [
      "\n",
      "/var/folders/8p/tyj3gj5j7f54558fzrt60f700000gn/T/ipykernel_41204/1224478227.py:37: FutureWarning: DataFrame.fillna with 'method' is deprecated and will raise in a future version. Use obj.ffill() or obj.bfill() instead.\n",
      "  data = data.fillna(method=\"ffill\").fillna(method=\"bfill\")\n",
      "[*********************100%***********************]  1 of 1 completed"
     ]
    },
    {
     "name": "stdout",
     "output_type": "stream",
     "text": [
      "Successfully saved DHL.DE hourly data to /Users/benpfeffer/Desktop/CODE/experiment-strategies/db/cache/market_data/raw/DHL.DE_hourly_data.csv\n"
     ]
    },
    {
     "name": "stderr",
     "output_type": "stream",
     "text": [
      "\n",
      "/var/folders/8p/tyj3gj5j7f54558fzrt60f700000gn/T/ipykernel_41204/1224478227.py:37: FutureWarning: DataFrame.fillna with 'method' is deprecated and will raise in a future version. Use obj.ffill() or obj.bfill() instead.\n",
      "  data = data.fillna(method=\"ffill\").fillna(method=\"bfill\")\n"
     ]
    },
    {
     "name": "stdout",
     "output_type": "stream",
     "text": [
      "Successfully saved OR.PA hourly data to /Users/benpfeffer/Desktop/CODE/experiment-strategies/db/cache/market_data/raw/OR.PA_hourly_data.csv\n"
     ]
    },
    {
     "name": "stderr",
     "output_type": "stream",
     "text": [
      "[*********************100%***********************]  1 of 1 completed\n",
      "/var/folders/8p/tyj3gj5j7f54558fzrt60f700000gn/T/ipykernel_41204/1224478227.py:37: FutureWarning: DataFrame.fillna with 'method' is deprecated and will raise in a future version. Use obj.ffill() or obj.bfill() instead.\n",
      "  data = data.fillna(method=\"ffill\").fillna(method=\"bfill\")\n"
     ]
    },
    {
     "name": "stdout",
     "output_type": "stream",
     "text": [
      "Successfully saved CS.PA hourly data to /Users/benpfeffer/Desktop/CODE/experiment-strategies/db/cache/market_data/raw/CS.PA_hourly_data.csv\n"
     ]
    },
    {
     "name": "stderr",
     "output_type": "stream",
     "text": [
      "[*********************100%***********************]  1 of 1 completed\n",
      "/var/folders/8p/tyj3gj5j7f54558fzrt60f700000gn/T/ipykernel_41204/1224478227.py:37: FutureWarning: DataFrame.fillna with 'method' is deprecated and will raise in a future version. Use obj.ffill() or obj.bfill() instead.\n",
      "  data = data.fillna(method=\"ffill\").fillna(method=\"bfill\")\n"
     ]
    },
    {
     "name": "stdout",
     "output_type": "stream",
     "text": [
      "Successfully saved BN.PA hourly data to /Users/benpfeffer/Desktop/CODE/experiment-strategies/db/cache/market_data/raw/BN.PA_hourly_data.csv\n"
     ]
    },
    {
     "name": "stderr",
     "output_type": "stream",
     "text": [
      "[*********************100%***********************]  1 of 1 completed\n",
      "/var/folders/8p/tyj3gj5j7f54558fzrt60f700000gn/T/ipykernel_41204/1224478227.py:37: FutureWarning: DataFrame.fillna with 'method' is deprecated and will raise in a future version. Use obj.ffill() or obj.bfill() instead.\n",
      "  data = data.fillna(method=\"ffill\").fillna(method=\"bfill\")\n"
     ]
    },
    {
     "name": "stdout",
     "output_type": "stream",
     "text": [
      "Successfully saved INGA.AS hourly data to /Users/benpfeffer/Desktop/CODE/experiment-strategies/db/cache/market_data/raw/INGA.AS_hourly_data.csv\n"
     ]
    },
    {
     "name": "stderr",
     "output_type": "stream",
     "text": [
      "[*********************100%***********************]  1 of 1 completed\n",
      "/var/folders/8p/tyj3gj5j7f54558fzrt60f700000gn/T/ipykernel_41204/1224478227.py:37: FutureWarning: DataFrame.fillna with 'method' is deprecated and will raise in a future version. Use obj.ffill() or obj.bfill() instead.\n",
      "  data = data.fillna(method=\"ffill\").fillna(method=\"bfill\")\n"
     ]
    },
    {
     "name": "stdout",
     "output_type": "stream",
     "text": [
      "Successfully saved ADYEN.AS hourly data to /Users/benpfeffer/Desktop/CODE/experiment-strategies/db/cache/market_data/raw/ADYEN.AS_hourly_data.csv\n"
     ]
    },
    {
     "name": "stderr",
     "output_type": "stream",
     "text": [
      "[*********************100%***********************]  1 of 1 completed\n",
      "/var/folders/8p/tyj3gj5j7f54558fzrt60f700000gn/T/ipykernel_41204/1224478227.py:37: FutureWarning: DataFrame.fillna with 'method' is deprecated and will raise in a future version. Use obj.ffill() or obj.bfill() instead.\n",
      "  data = data.fillna(method=\"ffill\").fillna(method=\"bfill\")\n"
     ]
    },
    {
     "name": "stdout",
     "output_type": "stream",
     "text": [
      "Successfully saved TTE.PA hourly data to /Users/benpfeffer/Desktop/CODE/experiment-strategies/db/cache/market_data/raw/TTE.PA_hourly_data.csv\n"
     ]
    },
    {
     "name": "stderr",
     "output_type": "stream",
     "text": [
      "[*********************100%***********************]  1 of 1 completed\n",
      "/var/folders/8p/tyj3gj5j7f54558fzrt60f700000gn/T/ipykernel_41204/1224478227.py:37: FutureWarning: DataFrame.fillna with 'method' is deprecated and will raise in a future version. Use obj.ffill() or obj.bfill() instead.\n",
      "  data = data.fillna(method=\"ffill\").fillna(method=\"bfill\")\n",
      "[*********************100%***********************]  1 of 1 completed"
     ]
    },
    {
     "name": "stdout",
     "output_type": "stream",
     "text": [
      "Successfully saved IFX.DE hourly data to /Users/benpfeffer/Desktop/CODE/experiment-strategies/db/cache/market_data/raw/IFX.DE_hourly_data.csv\n"
     ]
    },
    {
     "name": "stderr",
     "output_type": "stream",
     "text": [
      "\n",
      "/var/folders/8p/tyj3gj5j7f54558fzrt60f700000gn/T/ipykernel_41204/1224478227.py:37: FutureWarning: DataFrame.fillna with 'method' is deprecated and will raise in a future version. Use obj.ffill() or obj.bfill() instead.\n",
      "  data = data.fillna(method=\"ffill\").fillna(method=\"bfill\")\n",
      "[*********************100%***********************]  1 of 1 completed"
     ]
    },
    {
     "name": "stdout",
     "output_type": "stream",
     "text": [
      "Successfully saved RI.PA hourly data to /Users/benpfeffer/Desktop/CODE/experiment-strategies/db/cache/market_data/raw/RI.PA_hourly_data.csv\n"
     ]
    },
    {
     "name": "stderr",
     "output_type": "stream",
     "text": [
      "\n",
      "/var/folders/8p/tyj3gj5j7f54558fzrt60f700000gn/T/ipykernel_41204/1224478227.py:37: FutureWarning: DataFrame.fillna with 'method' is deprecated and will raise in a future version. Use obj.ffill() or obj.bfill() instead.\n",
      "  data = data.fillna(method=\"ffill\").fillna(method=\"bfill\")\n"
     ]
    },
    {
     "name": "stdout",
     "output_type": "stream",
     "text": [
      "Successfully saved WKL.AS hourly data to /Users/benpfeffer/Desktop/CODE/experiment-strategies/db/cache/market_data/raw/WKL.AS_hourly_data.csv\n"
     ]
    },
    {
     "name": "stderr",
     "output_type": "stream",
     "text": [
      "[*********************100%***********************]  1 of 1 completed\n",
      "/var/folders/8p/tyj3gj5j7f54558fzrt60f700000gn/T/ipykernel_41204/1224478227.py:37: FutureWarning: DataFrame.fillna with 'method' is deprecated and will raise in a future version. Use obj.ffill() or obj.bfill() instead.\n",
      "  data = data.fillna(method=\"ffill\").fillna(method=\"bfill\")\n"
     ]
    },
    {
     "name": "stdout",
     "output_type": "stream",
     "text": [
      "Successfully saved DB1.DE hourly data to /Users/benpfeffer/Desktop/CODE/experiment-strategies/db/cache/market_data/raw/DB1.DE_hourly_data.csv\n"
     ]
    },
    {
     "name": "stderr",
     "output_type": "stream",
     "text": [
      "[*********************100%***********************]  1 of 1 completed\n",
      "/var/folders/8p/tyj3gj5j7f54558fzrt60f700000gn/T/ipykernel_41204/1224478227.py:37: FutureWarning: DataFrame.fillna with 'method' is deprecated and will raise in a future version. Use obj.ffill() or obj.bfill() instead.\n",
      "  data = data.fillna(method=\"ffill\").fillna(method=\"bfill\")\n"
     ]
    },
    {
     "name": "stdout",
     "output_type": "stream",
     "text": [
      "Successfully saved SIE.DE hourly data to /Users/benpfeffer/Desktop/CODE/experiment-strategies/db/cache/market_data/raw/SIE.DE_hourly_data.csv\n"
     ]
    },
    {
     "name": "stderr",
     "output_type": "stream",
     "text": [
      "[*********************100%***********************]  1 of 1 completed\n",
      "/var/folders/8p/tyj3gj5j7f54558fzrt60f700000gn/T/ipykernel_41204/1224478227.py:37: FutureWarning: DataFrame.fillna with 'method' is deprecated and will raise in a future version. Use obj.ffill() or obj.bfill() instead.\n",
      "  data = data.fillna(method=\"ffill\").fillna(method=\"bfill\")\n"
     ]
    },
    {
     "name": "stdout",
     "output_type": "stream",
     "text": [
      "Successfully saved AIR.PA hourly data to /Users/benpfeffer/Desktop/CODE/experiment-strategies/db/cache/market_data/raw/AIR.PA_hourly_data.csv\n"
     ]
    },
    {
     "name": "stderr",
     "output_type": "stream",
     "text": [
      "[*********************100%***********************]  1 of 1 completed\n",
      "/var/folders/8p/tyj3gj5j7f54558fzrt60f700000gn/T/ipykernel_41204/1224478227.py:37: FutureWarning: DataFrame.fillna with 'method' is deprecated and will raise in a future version. Use obj.ffill() or obj.bfill() instead.\n",
      "  data = data.fillna(method=\"ffill\").fillna(method=\"bfill\")\n"
     ]
    },
    {
     "name": "stdout",
     "output_type": "stream",
     "text": [
      "Successfully saved PRX.AS hourly data to /Users/benpfeffer/Desktop/CODE/experiment-strategies/db/cache/market_data/raw/PRX.AS_hourly_data.csv\n"
     ]
    },
    {
     "name": "stderr",
     "output_type": "stream",
     "text": [
      "[*********************100%***********************]  1 of 1 completed\n",
      "/var/folders/8p/tyj3gj5j7f54558fzrt60f700000gn/T/ipykernel_41204/1224478227.py:37: FutureWarning: DataFrame.fillna with 'method' is deprecated and will raise in a future version. Use obj.ffill() or obj.bfill() instead.\n",
      "  data = data.fillna(method=\"ffill\").fillna(method=\"bfill\")\n"
     ]
    },
    {
     "name": "stdout",
     "output_type": "stream",
     "text": [
      "Successfully saved ABI.BR hourly data to /Users/benpfeffer/Desktop/CODE/experiment-strategies/db/cache/market_data/raw/ABI.BR_hourly_data.csv\n"
     ]
    },
    {
     "name": "stderr",
     "output_type": "stream",
     "text": [
      "[*********************100%***********************]  1 of 1 completed\n",
      "/var/folders/8p/tyj3gj5j7f54558fzrt60f700000gn/T/ipykernel_41204/1224478227.py:37: FutureWarning: DataFrame.fillna with 'method' is deprecated and will raise in a future version. Use obj.ffill() or obj.bfill() instead.\n",
      "  data = data.fillna(method=\"ffill\").fillna(method=\"bfill\")\n"
     ]
    },
    {
     "name": "stdout",
     "output_type": "stream",
     "text": [
      "Successfully saved STLAM.MI hourly data to /Users/benpfeffer/Desktop/CODE/experiment-strategies/db/cache/market_data/raw/STLAM.MI_hourly_data.csv\n"
     ]
    },
    {
     "name": "stderr",
     "output_type": "stream",
     "text": [
      "[*********************100%***********************]  1 of 1 completed\n",
      "/var/folders/8p/tyj3gj5j7f54558fzrt60f700000gn/T/ipykernel_41204/1224478227.py:37: FutureWarning: DataFrame.fillna with 'method' is deprecated and will raise in a future version. Use obj.ffill() or obj.bfill() instead.\n",
      "  data = data.fillna(method=\"ffill\").fillna(method=\"bfill\")\n"
     ]
    },
    {
     "name": "stdout",
     "output_type": "stream",
     "text": [
      "Successfully saved NDA-FI.HE hourly data to /Users/benpfeffer/Desktop/CODE/experiment-strategies/db/cache/market_data/raw/NDA-FI.HE_hourly_data.csv\n"
     ]
    },
    {
     "name": "stderr",
     "output_type": "stream",
     "text": [
      "[*********************100%***********************]  1 of 1 completed\n",
      "/var/folders/8p/tyj3gj5j7f54558fzrt60f700000gn/T/ipykernel_41204/1224478227.py:37: FutureWarning: DataFrame.fillna with 'method' is deprecated and will raise in a future version. Use obj.ffill() or obj.bfill() instead.\n",
      "  data = data.fillna(method=\"ffill\").fillna(method=\"bfill\")\n"
     ]
    },
    {
     "name": "stdout",
     "output_type": "stream",
     "text": [
      "Successfully saved MBG.DE hourly data to /Users/benpfeffer/Desktop/CODE/experiment-strategies/db/cache/market_data/raw/MBG.DE_hourly_data.csv\n"
     ]
    },
    {
     "name": "stderr",
     "output_type": "stream",
     "text": [
      "[*********************100%***********************]  1 of 1 completed\n",
      "/var/folders/8p/tyj3gj5j7f54558fzrt60f700000gn/T/ipykernel_41204/1224478227.py:37: FutureWarning: DataFrame.fillna with 'method' is deprecated and will raise in a future version. Use obj.ffill() or obj.bfill() instead.\n",
      "  data = data.fillna(method=\"ffill\").fillna(method=\"bfill\")\n"
     ]
    },
    {
     "name": "stdout",
     "output_type": "stream",
     "text": [
      "Successfully saved ISP.MI hourly data to /Users/benpfeffer/Desktop/CODE/experiment-strategies/db/cache/market_data/raw/ISP.MI_hourly_data.csv\n"
     ]
    },
    {
     "name": "stderr",
     "output_type": "stream",
     "text": [
      "[*********************100%***********************]  1 of 1 completed\n",
      "/var/folders/8p/tyj3gj5j7f54558fzrt60f700000gn/T/ipykernel_41204/1224478227.py:37: FutureWarning: DataFrame.fillna with 'method' is deprecated and will raise in a future version. Use obj.ffill() or obj.bfill() instead.\n",
      "  data = data.fillna(method=\"ffill\").fillna(method=\"bfill\")\n"
     ]
    },
    {
     "name": "stdout",
     "output_type": "stream",
     "text": [
      "Successfully saved IBE.MC hourly data to /Users/benpfeffer/Desktop/CODE/experiment-strategies/db/cache/market_data/raw/IBE.MC_hourly_data.csv\n"
     ]
    },
    {
     "name": "stderr",
     "output_type": "stream",
     "text": [
      "[*********************100%***********************]  1 of 1 completed\n",
      "/var/folders/8p/tyj3gj5j7f54558fzrt60f700000gn/T/ipykernel_41204/1224478227.py:37: FutureWarning: DataFrame.fillna with 'method' is deprecated and will raise in a future version. Use obj.ffill() or obj.bfill() instead.\n",
      "  data = data.fillna(method=\"ffill\").fillna(method=\"bfill\")\n"
     ]
    },
    {
     "name": "stdout",
     "output_type": "stream",
     "text": [
      "Successfully saved KER.PA hourly data to /Users/benpfeffer/Desktop/CODE/experiment-strategies/db/cache/market_data/raw/KER.PA_hourly_data.csv\n"
     ]
    },
    {
     "name": "stderr",
     "output_type": "stream",
     "text": [
      "[*********************100%***********************]  1 of 1 completed\n",
      "/var/folders/8p/tyj3gj5j7f54558fzrt60f700000gn/T/ipykernel_41204/1224478227.py:37: FutureWarning: DataFrame.fillna with 'method' is deprecated and will raise in a future version. Use obj.ffill() or obj.bfill() instead.\n",
      "  data = data.fillna(method=\"ffill\").fillna(method=\"bfill\")\n"
     ]
    },
    {
     "name": "stdout",
     "output_type": "stream",
     "text": [
      "Successfully saved SAP.DE hourly data to /Users/benpfeffer/Desktop/CODE/experiment-strategies/db/cache/market_data/raw/SAP.DE_hourly_data.csv\n"
     ]
    },
    {
     "name": "stderr",
     "output_type": "stream",
     "text": [
      "[*********************100%***********************]  1 of 1 completed\n",
      "/var/folders/8p/tyj3gj5j7f54558fzrt60f700000gn/T/ipykernel_41204/1224478227.py:37: FutureWarning: DataFrame.fillna with 'method' is deprecated and will raise in a future version. Use obj.ffill() or obj.bfill() instead.\n",
      "  data = data.fillna(method=\"ffill\").fillna(method=\"bfill\")\n"
     ]
    },
    {
     "name": "stdout",
     "output_type": "stream",
     "text": [
      "Successfully saved AD.AS hourly data to /Users/benpfeffer/Desktop/CODE/experiment-strategies/db/cache/market_data/raw/AD.AS_hourly_data.csv\n"
     ]
    },
    {
     "name": "stderr",
     "output_type": "stream",
     "text": [
      "[*********************100%***********************]  1 of 1 completed\n",
      "/var/folders/8p/tyj3gj5j7f54558fzrt60f700000gn/T/ipykernel_41204/1224478227.py:37: FutureWarning: DataFrame.fillna with 'method' is deprecated and will raise in a future version. Use obj.ffill() or obj.bfill() instead.\n",
      "  data = data.fillna(method=\"ffill\").fillna(method=\"bfill\")\n"
     ]
    },
    {
     "name": "stdout",
     "output_type": "stream",
     "text": [
      "Successfully saved ALV.DE hourly data to /Users/benpfeffer/Desktop/CODE/experiment-strategies/db/cache/market_data/raw/ALV.DE_hourly_data.csv\n"
     ]
    },
    {
     "name": "stderr",
     "output_type": "stream",
     "text": [
      "[*********************100%***********************]  1 of 1 completed\n",
      "/var/folders/8p/tyj3gj5j7f54558fzrt60f700000gn/T/ipykernel_41204/1224478227.py:37: FutureWarning: DataFrame.fillna with 'method' is deprecated and will raise in a future version. Use obj.ffill() or obj.bfill() instead.\n",
      "  data = data.fillna(method=\"ffill\").fillna(method=\"bfill\")\n"
     ]
    },
    {
     "name": "stdout",
     "output_type": "stream",
     "text": [
      "Successfully saved UCG.MI hourly data to /Users/benpfeffer/Desktop/CODE/experiment-strategies/db/cache/market_data/raw/UCG.MI_hourly_data.csv\n"
     ]
    },
    {
     "name": "stderr",
     "output_type": "stream",
     "text": [
      "[*********************100%***********************]  1 of 1 completed\n",
      "/var/folders/8p/tyj3gj5j7f54558fzrt60f700000gn/T/ipykernel_41204/1224478227.py:37: FutureWarning: DataFrame.fillna with 'method' is deprecated and will raise in a future version. Use obj.ffill() or obj.bfill() instead.\n",
      "  data = data.fillna(method=\"ffill\").fillna(method=\"bfill\")\n"
     ]
    },
    {
     "name": "stdout",
     "output_type": "stream",
     "text": [
      "Successfully saved EL.PA hourly data to /Users/benpfeffer/Desktop/CODE/experiment-strategies/db/cache/market_data/raw/EL.PA_hourly_data.csv\n"
     ]
    },
    {
     "name": "stderr",
     "output_type": "stream",
     "text": [
      "[*********************100%***********************]  1 of 1 completed\n",
      "/var/folders/8p/tyj3gj5j7f54558fzrt60f700000gn/T/ipykernel_41204/1224478227.py:37: FutureWarning: DataFrame.fillna with 'method' is deprecated and will raise in a future version. Use obj.ffill() or obj.bfill() instead.\n",
      "  data = data.fillna(method=\"ffill\").fillna(method=\"bfill\")\n"
     ]
    },
    {
     "name": "stdout",
     "output_type": "stream",
     "text": [
      "Successfully saved SAN.PA hourly data to /Users/benpfeffer/Desktop/CODE/experiment-strategies/db/cache/market_data/raw/SAN.PA_hourly_data.csv\n"
     ]
    },
    {
     "name": "stderr",
     "output_type": "stream",
     "text": [
      "[*********************100%***********************]  1 of 1 completed\n",
      "/var/folders/8p/tyj3gj5j7f54558fzrt60f700000gn/T/ipykernel_41204/1224478227.py:37: FutureWarning: DataFrame.fillna with 'method' is deprecated and will raise in a future version. Use obj.ffill() or obj.bfill() instead.\n",
      "  data = data.fillna(method=\"ffill\").fillna(method=\"bfill\")\n"
     ]
    },
    {
     "name": "stdout",
     "output_type": "stream",
     "text": [
      "Successfully saved BBVA.MC hourly data to /Users/benpfeffer/Desktop/CODE/experiment-strategies/db/cache/market_data/raw/BBVA.MC_hourly_data.csv\n"
     ]
    },
    {
     "name": "stderr",
     "output_type": "stream",
     "text": [
      "[*********************100%***********************]  1 of 1 completed"
     ]
    },
    {
     "name": "stdout",
     "output_type": "stream",
     "text": [
      "Successfully saved ENEL.MI hourly data to /Users/benpfeffer/Desktop/CODE/experiment-strategies/db/cache/market_data/raw/ENEL.MI_hourly_data.csv\n"
     ]
    },
    {
     "name": "stderr",
     "output_type": "stream",
     "text": [
      "\n",
      "/var/folders/8p/tyj3gj5j7f54558fzrt60f700000gn/T/ipykernel_41204/1224478227.py:37: FutureWarning: DataFrame.fillna with 'method' is deprecated and will raise in a future version. Use obj.ffill() or obj.bfill() instead.\n",
      "  data = data.fillna(method=\"ffill\").fillna(method=\"bfill\")\n"
     ]
    }
   ],
   "source": [
    "import sys, os\n",
    "sys.path.append(\"/Users/benpfeffer/Desktop/CODE/experiment-strategies/\")\n",
    "from src.utils.config import TICKERS, RAW_DATA_DIR\n",
    "\n",
    "def fetch_hourly_data(ticker:str, interval='1h', period='2y'):\n",
    "    \"\"\"\n",
    "    Fetch historical hourly price data for a given ticker and save to RAW_DATA_DIR\n",
    "    \n",
    "    Args:\n",
    "        ticker (str): Stock ticker symbol\n",
    "        interval (str): Data interval (default: '1h')\n",
    "        period (str): Time period to fetch (default: '2y')\n",
    "    \"\"\"\n",
    "    try:\n",
    "        # Get data from yfinance\n",
    "        data = yf.download(ticker, interval=interval, period=period)\n",
    "        \n",
    "        # Reset index to have date as column\n",
    "        data.reset_index(inplace=True)\n",
    "        \n",
    "        # Rename columns\n",
    "        data = data.rename(columns={\n",
    "            'Datetime': 'Date',\n",
    "            'Adj Close': 'Price',\n",
    "            'Close': 'Close', \n",
    "            'High': 'High',\n",
    "            'Low': 'Low',\n",
    "            'Open': 'Open',\n",
    "            'Volume': 'Volume'\n",
    "        })\n",
    "        \n",
    "        data.index.name = 'Dates'\n",
    "        # Ensure datetime format\n",
    "        data[\"Date\"] = pd.to_datetime(data[\"Date\"])\n",
    "        \n",
    "        # Handle missing values\n",
    "        data = data.fillna(method=\"ffill\").fillna(method=\"bfill\")\n",
    "        \n",
    "        # Add derived columns\n",
    "        data[\"Returns\"] = data[\"Close\"].pct_change()\n",
    "        data[\"Log_Returns\"] = np.log(data[\"Close\"] / data[\"Close\"].shift(1))\n",
    "        data[\"Volatility\"] = data[\"Returns\"].rolling(window=20).std() * np.sqrt(252)\n",
    "        \n",
    "        # Remove outliers using z-score method\n",
    "        for col in [\"Open\", \"High\", \"Low\", \"Close\"]:\n",
    "            mean = data[col].mean()\n",
    "            std = data[col].std()\n",
    "            data = data[\n",
    "                (data[col] <= mean + (3 * std))\n",
    "                & (data[col] >= mean - (3 * std))\n",
    "            ]\n",
    "            \n",
    "        # Drop the first row\n",
    "        data = data.iloc[2:]\n",
    "        \n",
    "\n",
    "        # Create filename\n",
    "        filename = f\"{ticker}_hourly_data.csv\"\n",
    "        filepath = os.path.join(RAW_DATA_DIR, filename)\n",
    "        \n",
    "        # Save to csv\n",
    "        data.to_csv(filepath, index=False)\n",
    "        print(f\"Successfully saved {ticker} hourly data to {filepath}\")\n",
    "        \n",
    "        return data\n",
    "        \n",
    "    except Exception as e:\n",
    "        print(f\"Error fetching data for {ticker}: {str(e)}\")\n",
    "        return None\n",
    "\n",
    "# Fetch data for all tickers\n",
    "for ticker in TICKERS:\n",
    "    fetch_hourly_data(ticker)"
   ]
  },
  {
   "cell_type": "code",
   "execution_count": 13,
   "metadata": {},
   "outputs": [
    {
     "name": "stdout",
     "output_type": "stream",
     "text": [
      "Successfully cleaned cache directory: /Users/benpfeffer/Desktop/CODE/experiment-strategies/db/cache\n"
     ]
    }
   ],
   "source": [
    "import os\n",
    "import sys\n",
    "sys.path.append(\"/Users/benpfeffer/Desktop/CODE/experiment-strategies/\")\n",
    "def clean_cache():\n",
    "    \"\"\"\n",
    "    Clean all files from the db/cache directory\n",
    "    \"\"\"\n",
    "    import shutil\n",
    "    from src.utils.config import CACHE_DIR\n",
    "    \n",
    "    try:\n",
    "        # Remove all contents of cache directory\n",
    "        if os.path.exists(CACHE_DIR):\n",
    "            shutil.rmtree(CACHE_DIR)\n",
    "            # Recreate empty cache directory\n",
    "            os.makedirs(CACHE_DIR)\n",
    "            print(f\"Successfully cleaned cache directory: {CACHE_DIR}\")\n",
    "        else:\n",
    "            print(f\"Cache directory does not exist: {CACHE_DIR}\")\n",
    "            \n",
    "    except Exception as e:\n",
    "        print(f\"Error cleaning cache: {str(e)}\")\n",
    "\n",
    "# Example usage\n",
    "clean_cache()\n",
    "\n"
   ]
  },
  {
   "cell_type": "code",
   "execution_count": null,
   "metadata": {},
   "outputs": [],
   "source": []
  }
 ],
 "metadata": {
  "kernelspec": {
   "display_name": "venv",
   "language": "python",
   "name": "python3"
  },
  "language_info": {
   "codemirror_mode": {
    "name": "ipython",
    "version": 3
   },
   "file_extension": ".py",
   "mimetype": "text/x-python",
   "name": "python",
   "nbconvert_exporter": "python",
   "pygments_lexer": "ipython3",
   "version": "3.12.8"
  }
 },
 "nbformat": 4,
 "nbformat_minor": 2
}
